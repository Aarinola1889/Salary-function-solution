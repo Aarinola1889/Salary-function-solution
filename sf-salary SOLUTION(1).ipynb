{
 "cells": [
  {
   "cell_type": "code",
   "execution_count": null,
   "id": "9f6e2bb0",
   "metadata": {},
   "outputs": [],
   "source": [
    "import pandas as pd\n",
    "\n",
    "# Assuming the salary data is in a CSV file named 'salary_data.csv'\n",
    "salary_data = pd.read_csv('Total.csv')"
   ]
  },
  {
   "cell_type": "code",
   "execution_count": null,
   "id": "aeb3fad1",
   "metadata": {},
   "outputs": [],
   "source": [
    "def get_employee_details(name):\n",
    "    try:\n",
    "        # Searching for the employee by name\n",
    "        employee_details = salary_data[salary_data['EmployeeName'].str.contains(name, case=False)]\n",
    "        if employee_details.empty:\n",
    "            return \"Employee not found\"\n",
    "        else:\n",
    "            return employee_details\n",
    "    except Exception as e:\n",
    "        return f\"An error occurred: {e}\""
   ]
  },
  {
   "cell_type": "code",
   "execution_count": null,
   "id": "92be9c8b",
   "metadata": {},
   "outputs": [],
   "source": [
    "def process_salary_data(data):\n",
    "    try:\n",
    "        salary_dict = data.to_dict(orient='records')\n",
    "        return salary_dict\n",
    "    except Exception as e:\n",
    "        print(f\"An error occurred while processing the data: {e}\")\n",
    "        return None\n",
    "\n",
    "salary_dict = process_salary_data(salary_data)"
   ]
  },
  {
   "cell_type": "code",
   "execution_count": null,
   "id": "3a5fbb94",
   "metadata": {},
   "outputs": [],
   "source": [
    "def process_salary_data(data):\n",
    "    try:\n",
    "        salary_dict = data.to_dict(orient='records')\n",
    "        return salary_dict\n",
    "    except Exception as e:\n",
    "        print(f\"An error occurred while processing the data: {e}\")\n",
    "        return None\n",
    "\n",
    "salary_dict = process_salary_data(salary_data)"
   ]
  },
  {
   "cell_type": "code",
   "execution_count": null,
   "id": "9293b27a",
   "metadata": {},
   "outputs": [],
   "source": [
    "import os\n",
    "import zipfile\n",
    "\n",
    "def export_employee_details(name):\n",
    "    try:\n",
    "        employee_details = get_employee_details(name)\n",
    "        \n",
    "        if isinstance(employee_details, str):  # If the function returned an error message\n",
    "            print(employee_details)\n",
    "            return\n",
    "        \n",
    "        # Export to CSV\n",
    "        csv_filename = f\"{name}_details.csv\"\n",
    "        employee_details.to_csv(csv_filename, index=False)\n",
    "        \n",
    "        # Create a zip file\n",
    "        zip_filename = \"Employee_Profile.zip\"\n",
    "        with zipfile.ZipFile(zip_filename, 'w') as zipf:\n",
    "             zipf.write(csv_filename)\n",
    "        \n",
    "        # Clean up the CSV file after zipping\n",
    "        os.remove(csv_filename)\n",
    "        \n",
    "        print(f\"Details of {name} have been saved in {zip_filename}.\")\n",
    "    \n",
    "    except Exception as e:\n",
    "        print(f\"An error occurred while exporting the details: {e}\")\n",
    "\n",
    "# Example usage\n",
    "export_employee_details('NATHANIEL FORD')\n"
   ]
  }
 ],
 "metadata": {
  "kernelspec": {
   "display_name": "Python 3",
   "language": "python",
   "name": "python3"
  },
  "language_info": {
   "codemirror_mode": {
    "name": "ipython",
    "version": 3
   },
   "file_extension": ".py",
   "mimetype": "text/x-python",
   "name": "python",
   "nbconvert_exporter": "python",
   "pygments_lexer": "ipython3",
   "version": "3.11.9"
  },
  "papermill": {
   "default_parameters": {},
   "duration": 17.736607,
   "end_time": "2021-06-11T04:58:55.414763",
   "environment_variables": {},
   "exception": null,
   "input_path": "__notebook__.ipynb",
   "output_path": "__notebook__.ipynb",
   "parameters": {},
   "start_time": "2021-06-11T04:58:37.678156",
   "version": "2.3.3"
  }
 },
 "nbformat": 4,
 "nbformat_minor": 5
}
